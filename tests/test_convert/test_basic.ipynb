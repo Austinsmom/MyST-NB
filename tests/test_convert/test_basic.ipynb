{
 "cells": [
  {
   "cell_type": "markdown",
   "metadata": {},
   "source": [
    "\n",
    "a\n",
    "\n",
    "b\n",
    "c\n"
   ]
  },
  {
   "cell_type": "code",
   "execution_count": null,
   "metadata": {},
   "outputs": [],
   "source": [
    "a = 1\n",
    "print(a)"
   ]
  },
  {
   "cell_type": "markdown",
   "metadata": {},
   "source": [
    "\n",
    "c\n",
    "\n",
    "d\n",
    "\n"
   ]
  }
 ],
 "metadata": {
  "a": 1
 },
 "nbformat": 4,
 "nbformat_minor": 4
}
